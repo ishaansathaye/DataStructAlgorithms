{
 "cells": [
  {
   "cell_type": "markdown",
   "metadata": {},
   "source": [
    "# Linear Probing Collision Handling Problem #4"
   ]
  },
  {
   "cell_type": "code",
   "execution_count": 105,
   "metadata": {},
   "outputs": [],
   "source": [
    "class HashTable:\n",
    "    def __init__(self) -> None:\n",
    "        self.MAX = 10\n",
    "        self.arr = [None for i in range(self.MAX)]\n",
    "    \n",
    "    def get_hash(self, key):\n",
    "        h = 0\n",
    "        for char in key:\n",
    "            h += ord(char)\n",
    "        return h % self.MAX\n",
    "\n",
    "    def __setitem__(self, key, value):\n",
    "        h = self.get_hash(key)\n",
    "        '''Check if location is None and then add the key-value pair'''\n",
    "        if self.arr[h] is None:\n",
    "            self.arr[h] = (key, value)\n",
    "        else:\n",
    "            '''If it is not None then find new position using findSlot'''\n",
    "            newPosition = self.findSlot(key, h)\n",
    "            self.arr[newPosition] = (key, value)\n",
    "\n",
    "    def __getitem__(self, key):\n",
    "        h = self.get_hash(key)\n",
    "        '''Checks if location for key-value pair is None and then returns'''\n",
    "        if self.arr[h] is None:\n",
    "            return\n",
    "        '''Checks from a range of values of indices for the key-value pair'''\n",
    "        probRange = self.getProbRange(h)\n",
    "        '''Iterates through index values'''\n",
    "        for probIndex in probRange:\n",
    "            element = self.arr[probIndex]\n",
    "            '''If the element at the index is None it returns'''\n",
    "            if element is None:\n",
    "                return\n",
    "            '''If the first part of the tuple element is the key it returns the second part which is the value'''\n",
    "            if element[0] == key:\n",
    "                return element[1]\n",
    "\n",
    "    def __delitem__(self, key):\n",
    "        h = self.get_hash(key)\n",
    "        '''Checks from a range of values of indices for the key-value pair'''\n",
    "        probRange = self.getProbRange(h)\n",
    "        '''Iterates through index values'''\n",
    "        for probIndex in probRange:\n",
    "            element = self.arr[probIndex]\n",
    "            '''If the element at the index is None it returns because the item is not found'''\n",
    "            if element is None:\n",
    "                return\n",
    "            '''If the first part of the tuple element is the key it returns the second part which is the value'''\n",
    "            if element[0] == key:\n",
    "                self.arr[probIndex] = None\n",
    "    \n",
    "    def getProbRange(self, index):\n",
    "        return [*range(index, len(self.arr))] + [*range(0,index)]\n",
    "\n",
    "    def findSlot(self, key, index):\n",
    "        '''List wilth possible index values'''\n",
    "        probRange = self.getProbRange(index)\n",
    "        '''Iteratres through all possible values in the range of values'''\n",
    "        for probIndex in probRange:\n",
    "            '''Check if location at that index is empty'''\n",
    "            if self.arr[probIndex] is None:\n",
    "                return probIndex\n",
    "            '''Check if key already exists'''\n",
    "            if self.arr[probIndex][0] == key:\n",
    "                return probIndex\n",
    "        '''If none above return then Hashmap is full of key-value pairs'''\n",
    "        raise Exception(\"Hashmap full\")\n"
   ]
  },
  {
   "cell_type": "markdown",
   "metadata": {},
   "source": [
    "## Linear Probing: Finding the Position (```getProbRange```)"
   ]
  },
  {
   "cell_type": "code",
   "execution_count": 106,
   "metadata": {},
   "outputs": [
    {
     "data": {
      "text/plain": [
       "[9, 0, 1, 2, 3, 4, 5, 6, 7, 8]"
      ]
     },
     "execution_count": 106,
     "metadata": {},
     "output_type": "execute_result"
    }
   ],
   "source": [
    "[*range(9, 10)] + [*range(0,9)]"
   ]
  },
  {
   "cell_type": "markdown",
   "metadata": {},
   "source": [
    "- How to find position in linear probing\n",
    "    - **Linear Probing looks to the next value after the given index and then looks at the beginning**\n",
    "    - **Code above gives range from the index to the end of the list and then starts from the beginning for an open space**"
   ]
  },
  {
   "cell_type": "markdown",
   "metadata": {},
   "source": [
    "## Testing Linear Probing Collision Handling"
   ]
  },
  {
   "cell_type": "code",
   "execution_count": 130,
   "metadata": {},
   "outputs": [],
   "source": [
    "t = HashTable()"
   ]
  },
  {
   "cell_type": "code",
   "execution_count": 131,
   "metadata": {},
   "outputs": [
    {
     "data": {
      "text/plain": [
       "[('march 17', 88),\n",
       " None,\n",
       " None,\n",
       " None,\n",
       " None,\n",
       " None,\n",
       " None,\n",
       " None,\n",
       " None,\n",
       " ('march 6', 20)]"
      ]
     },
     "execution_count": 131,
     "metadata": {},
     "output_type": "execute_result"
    }
   ],
   "source": [
    "t[\"march 6\"] = 20\n",
    "t[\"march 17\"] =  88\n",
    "t.arr"
   ]
  },
  {
   "cell_type": "code",
   "execution_count": 132,
   "metadata": {},
   "outputs": [
    {
     "data": {
      "text/plain": [
       "[('march 17', 29),\n",
       " None,\n",
       " None,\n",
       " None,\n",
       " None,\n",
       " None,\n",
       " None,\n",
       " None,\n",
       " None,\n",
       " ('march 6', 20)]"
      ]
     },
     "execution_count": 132,
     "metadata": {},
     "output_type": "execute_result"
    }
   ],
   "source": [
    "t[\"march 17\"] = 29\n",
    "t.arr"
   ]
  },
  {
   "cell_type": "code",
   "execution_count": 133,
   "metadata": {},
   "outputs": [
    {
     "data": {
      "text/plain": [
       "[('march 17', 29),\n",
       " ('nov 1', 1),\n",
       " None,\n",
       " None,\n",
       " None,\n",
       " None,\n",
       " None,\n",
       " None,\n",
       " None,\n",
       " ('march 6', 20)]"
      ]
     },
     "execution_count": 133,
     "metadata": {},
     "output_type": "execute_result"
    }
   ],
   "source": [
    "t[\"nov 1\"] = 1\n",
    "t.arr"
   ]
  },
  {
   "cell_type": "code",
   "execution_count": 134,
   "metadata": {},
   "outputs": [
    {
     "data": {
      "text/plain": [
       "[('march 17', 29),\n",
       " ('nov 1', 1),\n",
       " None,\n",
       " None,\n",
       " None,\n",
       " None,\n",
       " None,\n",
       " ('march 33', 234),\n",
       " None,\n",
       " ('march 6', 20)]"
      ]
     },
     "execution_count": 134,
     "metadata": {},
     "output_type": "execute_result"
    }
   ],
   "source": [
    "t[\"march 33\"] = 234\n",
    "t.arr"
   ]
  },
  {
   "cell_type": "code",
   "execution_count": 135,
   "metadata": {},
   "outputs": [],
   "source": [
    "t[\"dec 1\"]\n",
    "#should output nothing"
   ]
  },
  {
   "cell_type": "code",
   "execution_count": 136,
   "metadata": {},
   "outputs": [
    {
     "data": {
      "text/plain": [
       "234"
      ]
     },
     "execution_count": 136,
     "metadata": {},
     "output_type": "execute_result"
    }
   ],
   "source": [
    "t[\"march 33\"]"
   ]
  },
  {
   "cell_type": "code",
   "execution_count": 137,
   "metadata": {},
   "outputs": [
    {
     "data": {
      "text/plain": [
       "[('march 17', 29),\n",
       " ('nov 1', 1),\n",
       " None,\n",
       " None,\n",
       " None,\n",
       " None,\n",
       " None,\n",
       " ('march 33', 999),\n",
       " None,\n",
       " ('march 6', 20)]"
      ]
     },
     "execution_count": 137,
     "metadata": {},
     "output_type": "execute_result"
    }
   ],
   "source": [
    "t[\"march 33\"] = 999\n",
    "t.arr"
   ]
  },
  {
   "cell_type": "code",
   "execution_count": 138,
   "metadata": {},
   "outputs": [
    {
     "data": {
      "text/plain": [
       "999"
      ]
     },
     "execution_count": 138,
     "metadata": {},
     "output_type": "execute_result"
    }
   ],
   "source": [
    "t[\"march 33\"]"
   ]
  },
  {
   "cell_type": "code",
   "execution_count": 139,
   "metadata": {},
   "outputs": [
    {
     "data": {
      "text/plain": [
       "[('march 17', 29),\n",
       " ('nov 1', 1),\n",
       " ('april 2', 123),\n",
       " ('april 3', 234234),\n",
       " ('april 4', 91),\n",
       " ('May 22', 4),\n",
       " ('May 7', 47),\n",
       " ('march 33', 999),\n",
       " ('april 1', 87),\n",
       " ('march 6', 20)]"
      ]
     },
     "execution_count": 139,
     "metadata": {},
     "output_type": "execute_result"
    }
   ],
   "source": [
    "t[\"april 1\"] = 87\n",
    "t[\"april 2\"] = 123\n",
    "t[\"april 3\"] = 234234\n",
    "t[\"april 4\"] = 91\n",
    "t[\"May 22\"] = 4\n",
    "t[\"May 7\"] = 47\n",
    "t.arr\n",
    "#hash table full"
   ]
  },
  {
   "cell_type": "code",
   "execution_count": 140,
   "metadata": {},
   "outputs": [
    {
     "ename": "Exception",
     "evalue": "Hashmap full",
     "output_type": "error",
     "traceback": [
      "\u001b[0;31m---------------------------------------------------------------------------\u001b[0m",
      "\u001b[0;31mException\u001b[0m                                 Traceback (most recent call last)",
      "\u001b[0;32m<ipython-input-140-c8aa22f90702>\u001b[0m in \u001b[0;36m<module>\u001b[0;34m\u001b[0m\n\u001b[0;32m----> 1\u001b[0;31m \u001b[0mt\u001b[0m\u001b[0;34m[\u001b[0m\u001b[0;34m\"Jan 1\"\u001b[0m\u001b[0;34m]\u001b[0m \u001b[0;34m=\u001b[0m \u001b[0;36m0\u001b[0m\u001b[0;34m\u001b[0m\u001b[0;34m\u001b[0m\u001b[0m\n\u001b[0m\u001b[1;32m      2\u001b[0m \u001b[0;31m#Raises Exception\u001b[0m\u001b[0;34m\u001b[0m\u001b[0;34m\u001b[0m\u001b[0;34m\u001b[0m\u001b[0m\n",
      "\u001b[0;32m<ipython-input-105-d9f4171423e0>\u001b[0m in \u001b[0;36m__setitem__\u001b[0;34m(self, key, value)\u001b[0m\n\u001b[1;32m     17\u001b[0m         \u001b[0;32melse\u001b[0m\u001b[0;34m:\u001b[0m\u001b[0;34m\u001b[0m\u001b[0;34m\u001b[0m\u001b[0m\n\u001b[1;32m     18\u001b[0m             \u001b[0;34m'''If it is not None then find new position using findSlot'''\u001b[0m\u001b[0;34m\u001b[0m\u001b[0;34m\u001b[0m\u001b[0m\n\u001b[0;32m---> 19\u001b[0;31m             \u001b[0mnewPosition\u001b[0m \u001b[0;34m=\u001b[0m \u001b[0mself\u001b[0m\u001b[0;34m.\u001b[0m\u001b[0mfindSlot\u001b[0m\u001b[0;34m(\u001b[0m\u001b[0mkey\u001b[0m\u001b[0;34m,\u001b[0m \u001b[0mh\u001b[0m\u001b[0;34m)\u001b[0m\u001b[0;34m\u001b[0m\u001b[0;34m\u001b[0m\u001b[0m\n\u001b[0m\u001b[1;32m     20\u001b[0m             \u001b[0mself\u001b[0m\u001b[0;34m.\u001b[0m\u001b[0marr\u001b[0m\u001b[0;34m[\u001b[0m\u001b[0mnewPosition\u001b[0m\u001b[0;34m]\u001b[0m \u001b[0;34m=\u001b[0m \u001b[0;34m(\u001b[0m\u001b[0mkey\u001b[0m\u001b[0;34m,\u001b[0m \u001b[0mvalue\u001b[0m\u001b[0;34m)\u001b[0m\u001b[0;34m\u001b[0m\u001b[0;34m\u001b[0m\u001b[0m\n\u001b[1;32m     21\u001b[0m \u001b[0;34m\u001b[0m\u001b[0m\n",
      "\u001b[0;32m<ipython-input-105-d9f4171423e0>\u001b[0m in \u001b[0;36mfindSlot\u001b[0;34m(self, key, index)\u001b[0m\n\u001b[1;32m     66\u001b[0m                 \u001b[0;32mreturn\u001b[0m \u001b[0mprobIndex\u001b[0m\u001b[0;34m\u001b[0m\u001b[0;34m\u001b[0m\u001b[0m\n\u001b[1;32m     67\u001b[0m         \u001b[0;34m'''If none above return then Hashmap is full of key-value pairs'''\u001b[0m\u001b[0;34m\u001b[0m\u001b[0;34m\u001b[0m\u001b[0m\n\u001b[0;32m---> 68\u001b[0;31m         \u001b[0;32mraise\u001b[0m \u001b[0mException\u001b[0m\u001b[0;34m(\u001b[0m\u001b[0;34m\"Hashmap full\"\u001b[0m\u001b[0;34m)\u001b[0m\u001b[0;34m\u001b[0m\u001b[0;34m\u001b[0m\u001b[0m\n\u001b[0m",
      "\u001b[0;31mException\u001b[0m: Hashmap full"
     ]
    }
   ],
   "source": [
    "t[\"Jan 1\"] = 0\n",
    "#Raises Exception"
   ]
  },
  {
   "cell_type": "code",
   "execution_count": 142,
   "metadata": {},
   "outputs": [
    {
     "data": {
      "text/plain": [
       "[('march 17', 29),\n",
       " ('nov 1', 1),\n",
       " None,\n",
       " ('april 3', 234234),\n",
       " ('april 4', 91),\n",
       " ('May 22', 4),\n",
       " ('May 7', 47),\n",
       " ('march 33', 999),\n",
       " ('april 1', 87),\n",
       " ('march 6', 20)]"
      ]
     },
     "execution_count": 142,
     "metadata": {},
     "output_type": "execute_result"
    }
   ],
   "source": [
    "del t[\"april 2\"]\n",
    "t.arr"
   ]
  },
  {
   "cell_type": "code",
   "execution_count": 144,
   "metadata": {},
   "outputs": [
    {
     "data": {
      "text/plain": [
       "[('march 17', 29),\n",
       " ('nov 1', 1),\n",
       " ('Jan 1', 0),\n",
       " ('april 3', 234234),\n",
       " ('april 4', 91),\n",
       " ('May 22', 4),\n",
       " ('May 7', 47),\n",
       " ('march 33', 999),\n",
       " ('april 1', 87),\n",
       " ('march 6', 20)]"
      ]
     },
     "execution_count": 144,
     "metadata": {},
     "output_type": "execute_result"
    }
   ],
   "source": [
    "t[\"Jan 1\"] = 0\n",
    "t.arr"
   ]
  }
 ],
 "metadata": {
  "interpreter": {
   "hash": "082e9a3bcad0a290d0001e938aa60b99250c6c2ef33a923c00b70f9826caf4b7"
  },
  "kernelspec": {
   "display_name": "Python 3.8.0 64-bit",
   "name": "python3"
  },
  "language_info": {
   "codemirror_mode": {
    "name": "ipython",
    "version": 3
   },
   "file_extension": ".py",
   "mimetype": "text/x-python",
   "name": "python",
   "nbconvert_exporter": "python",
   "pygments_lexer": "ipython3",
   "version": "3.8.0"
  },
  "orig_nbformat": 4
 },
 "nbformat": 4,
 "nbformat_minor": 2
}
