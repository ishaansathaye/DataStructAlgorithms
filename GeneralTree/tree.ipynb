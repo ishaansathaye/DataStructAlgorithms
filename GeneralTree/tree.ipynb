{
 "cells": [
  {
   "cell_type": "markdown",
   "metadata": {},
   "source": [
    "# Tree Implementation in Python"
   ]
  },
  {
   "cell_type": "markdown",
   "metadata": {},
   "source": [
    "## TreeNode Class Breakdown\n",
    "---"
   ]
  },
  {
   "cell_type": "markdown",
   "metadata": {},
   "source": [
    "### ```__init__()``` breakdown\n",
    "```data``` as an element which will represnt all kinds of data\n",
    "\n",
    "```children``` will be a list\n",
    "- **Each element in this list will be an instance of the ```TreeNode()``` class**\n",
    "- Tree is a **recursive data structure**: the **child node** of a node is **another tree in itself** -> so each element instance of the ```TreeNode()``` class\n",
    "\n",
    "```parent``` property will store the parent of and individual node"
   ]
  },
  {
   "cell_type": "markdown",
   "metadata": {},
   "source": [
    "### ```add_child()``` breakdown\n",
    "```child.parent = self``` assigns the parent of the child node to the current TreeNode object (self)\n",
    "\n",
    "```self.children.append(child)``` adds child to the children list"
   ]
  },
  {
   "cell_type": "markdown",
   "metadata": {},
   "source": [
    "### ```print_tree()``` breakdown\n",
    "First line prints the data or the name of the node in this example\n",
    "\n",
    "Iterate through all the children in the object's parent node\n",
    "- **Recursion:** Call ```print_tree()``` again so it prints the the children or the child's node too\n",
    "\n",
    "**Check if children exist in the node** -> if not then it is a **leaf node**\n",
    "- If yes -> print all the children of the that node"
   ]
  },
  {
   "cell_type": "markdown",
   "metadata": {},
   "source": [
    "---"
   ]
  },
  {
   "cell_type": "code",
   "execution_count": 20,
   "metadata": {},
   "outputs": [],
   "source": [
    "class TreeNode:\n",
    "    def __init__(self, data):\n",
    "        self.data = data\n",
    "        self.children = []\n",
    "        self.parent = None\n",
    "\n",
    "    def add_child(self, child):\n",
    "        '''Can also check for duplicate child elements here'''\n",
    "        child.parent = self\n",
    "        self.children.append(child)\n",
    "\n",
    "    def print_tree(self):\n",
    "        print(self.data)\n",
    "        if self.children:\n",
    "            for child in self.children:\n",
    "                child.print_tree()\n"
   ]
  },
  {
   "cell_type": "markdown",
   "metadata": {},
   "source": [
    "### ```build_product_tree()``` breakdown\n",
    "Set **root node** of the Tree: create a ```TreeNode()``` object\n",
    "\n",
    "Create another node by creating another object\n",
    "- Add that node to the root node using ```add_child()```"
   ]
  },
  {
   "cell_type": "code",
   "execution_count": 21,
   "metadata": {},
   "outputs": [],
   "source": [
    "'''Debug to see how classes are initialized and how child nodes are created as class objects and added to the parent node'''\n",
    "def build_product_tree():\n",
    "        root = TreeNode(\"Electronics\")\n",
    "\n",
    "        laptop = TreeNode(\"Laptop\")\n",
    "        laptop.add_child(TreeNode(\"Mac M1 Pro\"))\n",
    "        laptop.add_child(TreeNode(\"Surface\"))\n",
    "        laptop.add_child(TreeNode(\"Dell XPS\"))\n",
    "        \n",
    "        cellphone = TreeNode(\"Cell Phone\")\n",
    "        cellphone.add_child(TreeNode(\"Samsung\"))\n",
    "        cellphone.add_child(TreeNode(\"iPhone\"))\n",
    "        cellphone.add_child(TreeNode(\"Google Pixel\"))\n",
    "        cellphone.add_child(TreeNode(\"OnePlus\"))\n",
    "\n",
    "        tv = TreeNode(\"TV\")\n",
    "        tv.add_child(TreeNode(\"Samsung\"))\n",
    "        tv.add_child(TreeNode(\"LG\"))\n",
    "\n",
    "        root.add_child(laptop)\n",
    "        root.add_child(cellphone)\n",
    "        root.add_child(tv)\n",
    "\n",
    "        return root"
   ]
  },
  {
   "cell_type": "code",
   "execution_count": 22,
   "metadata": {},
   "outputs": [
    {
     "name": "stdout",
     "output_type": "stream",
     "text": [
      "Electronics\n",
      "Laptop\n",
      "Mac M1 Pro\n",
      "Surface\n",
      "Dell XPS\n",
      "Cell Phone\n",
      "Samsung\n",
      "iPhone\n",
      "Google Pixel\n",
      "OnePlus\n",
      "TV\n",
      "Samsung\n",
      "LG\n"
     ]
    }
   ],
   "source": [
    "if __name__ == \"__main__\":\n",
    "    root = build_product_tree()\n",
    "    root.print_tree()\n",
    "    pass "
   ]
  },
  {
   "cell_type": "code",
   "execution_count": null,
   "metadata": {},
   "outputs": [],
   "source": []
  }
 ],
 "metadata": {
  "interpreter": {
   "hash": "b30b16c83ff9e1edf05d1389201b91a87d2eda582773d1d418f36c288e735fdc"
  },
  "kernelspec": {
   "display_name": "Python 3.10.0 64-bit ('3.10.0': pyenv)",
   "language": "python",
   "name": "python3"
  },
  "language_info": {
   "codemirror_mode": {
    "name": "ipython",
    "version": 3
   },
   "file_extension": ".py",
   "mimetype": "text/x-python",
   "name": "python",
   "nbconvert_exporter": "python",
   "pygments_lexer": "ipython3",
   "version": "3.10.0"
  },
  "orig_nbformat": 4
 },
 "nbformat": 4,
 "nbformat_minor": 2
}
