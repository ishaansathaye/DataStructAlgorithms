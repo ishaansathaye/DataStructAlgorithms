{
 "cells": [
  {
   "cell_type": "markdown",
   "metadata": {},
   "source": [
    "# Tree Implementation in Python"
   ]
  },
  {
   "cell_type": "markdown",
   "metadata": {},
   "source": [
    "## TreeNode Class Breakdown\n",
    "---"
   ]
  },
  {
   "cell_type": "markdown",
   "metadata": {},
   "source": [
    "### ```__init__()``` breakdown\n",
    "```data``` as an element which will represnt all kinds of data\n",
    "\n",
    "```children``` will be a list\n",
    "- **Each element in this list will be an instance of the ```TreeNode()``` class**\n",
    "- Tree is a **recursive data structure**: the **child node** of a node is **another tree in itself** -> so each element instance of the ```TreeNode()``` class\n",
    "\n",
    "```parent``` property will store the parent of and individual node"
   ]
  },
  {
   "cell_type": "markdown",
   "metadata": {},
   "source": [
    "### ```add_child()``` breakdown\n",
    "```child.parent = self``` assigns the parent of the child node to the current TreeNode object (self)\n",
    "\n",
    "```self.children.append(child)``` adds child to the children list"
   ]
  },
  {
   "cell_type": "markdown",
   "metadata": {},
   "source": [
    "## ```build_product_tree()``` breakdown"
   ]
  },
  {
   "cell_type": "markdown",
   "metadata": {},
   "source": [
    "---"
   ]
  },
  {
   "cell_type": "code",
   "execution_count": null,
   "metadata": {},
   "outputs": [],
   "source": [
    "class TreeNode:\n",
    "    def __init__(self, data):\n",
    "        self.data = data\n",
    "        self.children = []\n",
    "        self.parent = None\n",
    "\n",
    "    def add_child(self, child):\n",
    "        '''Can also check for duplicate child elements here'''\n",
    "        child.parent = self\n",
    "        self.children.append(child)\n",
    "    \n",
    "    def build_product_tree():\n",
    "        root = TreeNode(\"Electronics\")\n",
    "\n",
    "        laptop = TreeNode(\"Laptop\")\n",
    "        root.add_child(laptop)\n"
   ]
  },
  {
   "cell_type": "code",
   "execution_count": null,
   "metadata": {},
   "outputs": [],
   "source": [
    "if __name__ == \"__main__\":\n",
    "    build_product_tree()"
   ]
  }
 ],
 "metadata": {
  "language_info": {
   "name": "python"
  },
  "orig_nbformat": 4
 },
 "nbformat": 4,
 "nbformat_minor": 2
}
