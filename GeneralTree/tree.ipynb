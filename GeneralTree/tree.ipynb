{
 "cells": [
  {
   "cell_type": "markdown",
   "metadata": {},
   "source": [
    "# Tree Implementation in Python"
   ]
  },
  {
   "cell_type": "markdown",
   "metadata": {},
   "source": [
    "## TreeNode Class Breakdown\n",
    "---"
   ]
  },
  {
   "cell_type": "markdown",
   "metadata": {},
   "source": [
    "### ```__init__()``` breakdown\n",
    "```data``` as an element which will represnt all kinds of data\n",
    "\n",
    "```children``` will be a list\n",
    "- **Each element in this list will be an instance of the ```TreeNode()``` class**\n",
    "- Tree is a **recursive data structure**: the **child node** of a node is **another tree in itself** -> so each element instance of the ```TreeNode()``` class\n",
    "\n",
    "```parent``` property will store the parent of and individual node"
   ]
  },
  {
   "cell_type": "markdown",
   "metadata": {},
   "source": [
    "### ```add_child()``` breakdown\n",
    "```child.parent = self``` assigns the parent of the child node to the current TreeNode object (self)\n",
    "\n",
    "```self.children.append(child)``` adds child to the children list"
   ]
  },
  {
   "cell_type": "markdown",
   "metadata": {},
   "source": [
    "---"
   ]
  },
  {
   "cell_type": "code",
   "execution_count": 7,
   "metadata": {},
   "outputs": [],
   "source": [
    "class TreeNode:\n",
    "    def __init__(self, data):\n",
    "        self.data = data\n",
    "        self.children = []\n",
    "        self.parent = None\n",
    "\n",
    "    def add_child(self, child):\n",
    "        '''Can also check for duplicate child elements here'''\n",
    "        child.parent = self\n",
    "        self.children.append(child)\n"
   ]
  },
  {
   "cell_type": "markdown",
   "metadata": {},
   "source": [
    "### ```build_product_tree()``` breakdown\n",
    "Set **root node** of the Tree: create a ```TreeNode()``` object\n",
    "\n",
    "Create another node by creating another object\n",
    "- Add that node to the root node using ```add_child()```"
   ]
  },
  {
   "cell_type": "code",
   "execution_count": 5,
   "metadata": {},
   "outputs": [],
   "source": [
    "'''Debug to see how classes are initialized and how child nodes are created as class objects and added to the parent node'''\n",
    "def build_product_tree():\n",
    "        root = TreeNode(\"Electronics\")\n",
    "\n",
    "        laptop = TreeNode(\"Laptop\")\n",
    "        laptop.add_child(TreeNode(\"Mac\"))\n",
    "        laptop.add_child(TreeNode(\"Surface\"))\n",
    "        laptop.add_child(TreeNode(\"Thinkpad\"))\n",
    "        '''add other child nodes'''\n",
    "\n",
    "\n",
    "        root.add_child(laptop)\n",
    "\n",
    "        return root"
   ]
  },
  {
   "cell_type": "code",
   "execution_count": 8,
   "metadata": {},
   "outputs": [],
   "source": [
    "if __name__ == \"__main__\":\n",
    "    root = build_product_tree()\n",
    "    pass "
   ]
  },
  {
   "cell_type": "code",
   "execution_count": null,
   "metadata": {},
   "outputs": [],
   "source": []
  }
 ],
 "metadata": {
  "interpreter": {
   "hash": "b30b16c83ff9e1edf05d1389201b91a87d2eda582773d1d418f36c288e735fdc"
  },
  "kernelspec": {
   "display_name": "Python 3.10.0 64-bit ('3.10.0': pyenv)",
   "language": "python",
   "name": "python3"
  },
  "language_info": {
   "codemirror_mode": {
    "name": "ipython",
    "version": 3
   },
   "file_extension": ".py",
   "mimetype": "text/x-python",
   "name": "python",
   "nbconvert_exporter": "python",
   "pygments_lexer": "ipython3",
   "version": "3.10.0"
  },
  "orig_nbformat": 4
 },
 "nbformat": 4,
 "nbformat_minor": 2
}
